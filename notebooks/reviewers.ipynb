{
 "cells": [
  {
   "cell_type": "code",
   "execution_count": null,
   "id": "located-proportion",
   "metadata": {},
   "outputs": [],
   "source": [
    "import duckdb\n",
    "\n",
    "# Create an in-memory database\n",
    "conn = duckdb.connect()  \n",
    "# Set these to something appropriate for your machine\n",
    "conn.execute(f\"PRAGMA memory_limit='10GB'\")\n",
    "conn.execute(f\"PRAGMA threads=12\")"
   ]
  },
  {
   "cell_type": "code",
   "execution_count": null,
   "id": "adjustable-holder",
   "metadata": {},
   "outputs": [],
   "source": [
    "import os\n",
    "data_dir = os.environ[\"DATA_DIR\"]\n",
    "parquet_files = f\"{data_dir}/*/*.parquet\"\n",
    "reviews = conn.from_parquet(parquet_files)"
   ]
  },
  {
   "cell_type": "code",
   "execution_count": null,
   "id": "innovative-place",
   "metadata": {},
   "outputs": [],
   "source": [
    "reviews.project(\"product_title\").limit(3).df()"
   ]
  },
  {
   "cell_type": "code",
   "execution_count": null,
   "id": "disturbed-backing",
   "metadata": {},
   "outputs": [],
   "source": [
    "reviews.aggregate(\"count(*)\").df()"
   ]
  },
  {
   "cell_type": "code",
   "execution_count": null,
   "id": "failing-jackson",
   "metadata": {},
   "outputs": [],
   "source": [
    "reviews.aggregate(\"marketplace, avg(star_rating) as average_rating\").df().plot.bar(x=\"marketplace\", y=\"average_rating\")"
   ]
  },
  {
   "cell_type": "code",
   "execution_count": null,
   "id": "vertical-diving",
   "metadata": {},
   "outputs": [],
   "source": [
    "reviews\\\n",
    "    .aggregate(\"year, avg(star_rating) as average_rating\")\\\n",
    "    .filter(\"year >= 2000\")\\\n",
    "    .order(\"year ASC\")\\\n",
    "    .df()\\\n",
    "    .plot.line(x=\"year\", y=\"average_rating\")"
   ]
  },
  {
   "cell_type": "code",
   "execution_count": null,
   "id": "suspended-watson",
   "metadata": {},
   "outputs": [],
   "source": [
    "reviews\\\n",
    "    .aggregate(\"year, sum(case when verified_purchase = 'Y' then 1 else 0 end) * 100.0 / count(*) as percent_verified\")\\\n",
    "    .order(\"year ASC\")\\\n",
    "    .df()\\\n",
    "    .plot.line(x=\"year\", y=\"percent_verified\")"
   ]
  }
 ],
 "metadata": {
  "kernelspec": {
   "display_name": "Python 3",
   "language": "python",
   "name": "python3"
  },
  "language_info": {
   "codemirror_mode": {
    "name": "ipython",
    "version": 3
   },
   "file_extension": ".py",
   "mimetype": "text/x-python",
   "name": "python",
   "nbconvert_exporter": "python",
   "pygments_lexer": "ipython3",
   "version": "3.8.7"
  }
 },
 "nbformat": 4,
 "nbformat_minor": 5
}
